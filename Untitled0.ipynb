{
  "nbformat": 4,
  "nbformat_minor": 0,
  "metadata": {
    "colab": {
      "provenance": [],
      "authorship_tag": "ABX9TyP599pHpjE5rm9SqugdRrPb",
      "include_colab_link": true
    },
    "kernelspec": {
      "name": "python3",
      "display_name": "Python 3"
    },
    "language_info": {
      "name": "python"
    }
  },
  "cells": [
    {
      "cell_type": "markdown",
      "metadata": {
        "id": "view-in-github",
        "colab_type": "text"
      },
      "source": [
        "<a href=\"https://colab.research.google.com/github/MacenaBraga/Projeto_Imersao_IA_Google/blob/main/Untitled0.ipynb\" target=\"_parent\"><img src=\"https://colab.research.google.com/assets/colab-badge.svg\" alt=\"Open In Colab\"/></a>"
      ]
    },
    {
      "cell_type": "markdown",
      "source": [
        "Instalando o SDK do Google"
      ],
      "metadata": {
        "id": "TYcTK37N162l"
      }
    },
    {
      "cell_type": "code",
      "execution_count": 23,
      "metadata": {
        "id": "tNPhhWE6v6vn"
      },
      "outputs": [],
      "source": [
        "!pip install -q -U google-generativeai"
      ]
    },
    {
      "cell_type": "code",
      "source": [
        "import numpy as np\n",
        "import pandas as pd\n",
        "import google.generativeai as genai\n",
        "\n",
        "from google.colab import userdata\n",
        "api_key = userdata.get('SECRET_KEY')\n",
        "genai.configure(api_key=api_key)"
      ],
      "metadata": {
        "id": "p4sTeT07112T"
      },
      "execution_count": 22,
      "outputs": []
    },
    {
      "cell_type": "code",
      "source": [
        "for m in genai.list_models():\n",
        "  if \"embedContent\" in m.supported_generation_methods:\n",
        "    print(m.name)\n"
      ],
      "metadata": {
        "colab": {
          "base_uri": "https://localhost:8080/",
          "height": 52
        },
        "id": "x_BGT88ZkXe_",
        "outputId": "3258647c-e9cf-460b-a0a9-12ce64e7c462"
      },
      "execution_count": 24,
      "outputs": [
        {
          "output_type": "stream",
          "name": "stdout",
          "text": [
            "models/embedding-001\n",
            "models/text-embedding-004\n"
          ]
        }
      ]
    },
    {
      "cell_type": "code",
      "source": [
        "for m in genai.list_models():\n",
        "  if \"generateContent\" in m.supported_generation_methods:\n",
        "    print(m.name)"
      ],
      "metadata": {
        "colab": {
          "base_uri": "https://localhost:8080/",
          "height": 139
        },
        "id": "tEwy_9DU14xb",
        "outputId": "e6a09d67-e2fa-40fa-e6a3-e163c3ea6a28"
      },
      "execution_count": 25,
      "outputs": [
        {
          "output_type": "stream",
          "name": "stdout",
          "text": [
            "models/gemini-1.0-pro\n",
            "models/gemini-1.0-pro-001\n",
            "models/gemini-1.0-pro-latest\n",
            "models/gemini-1.0-pro-vision-latest\n",
            "models/gemini-1.5-pro-latest\n",
            "models/gemini-pro\n",
            "models/gemini-pro-vision\n"
          ]
        }
      ]
    },
    {
      "cell_type": "code",
      "source": [
        "generation_config={\n",
        "    \"candidate_count\":1,\n",
        "    \"temperature\":0.5,\n",
        "}"
      ],
      "metadata": {
        "id": "s-HYqQHw4cm2"
      },
      "execution_count": 26,
      "outputs": []
    },
    {
      "cell_type": "markdown",
      "source": [],
      "metadata": {
        "id": "W1UornJ016CG"
      }
    },
    {
      "cell_type": "code",
      "source": [
        "safety_settings={\n",
        "    \"harassment\":\"block_none\",\n",
        "    \"hate\":\"block_none\",\n",
        "    \"sexual\":\"block_none\",\n",
        "    \"dangerous\":\"block_none\",\n",
        "}"
      ],
      "metadata": {
        "id": "BRul4NT55V0H"
      },
      "execution_count": 27,
      "outputs": []
    },
    {
      "cell_type": "markdown",
      "source": [
        "inicializando o modelo"
      ],
      "metadata": {
        "id": "uWKedi1e6woa"
      }
    },
    {
      "cell_type": "code",
      "source": [
        "model =genai.GenerativeModel(model_name=\"gemini-1.0-pro\",\n",
        "                             generation_config=generation_config,\n",
        "                             safety_settings=safety_settings)"
      ],
      "metadata": {
        "id": "wKgfROIi64vY"
      },
      "execution_count": 28,
      "outputs": []
    },
    {
      "cell_type": "code",
      "source": [
        "response = model.generate_content(\"conte ate 10\")\n",
        "print( response.text)"
      ],
      "metadata": {
        "id": "LEVYbx5J7t3q"
      },
      "execution_count": null,
      "outputs": []
    },
    {
      "cell_type": "code",
      "source": [
        "chat =  model.start_chat(history=[])"
      ],
      "metadata": {
        "id": "7qyNIe-R8q4f"
      },
      "execution_count": 10,
      "outputs": []
    },
    {
      "cell_type": "code",
      "source": [
        "prompt = input(\"Esperando o Prompt:\")\n",
        "while prompt != \"fim\":\n",
        "  response = chat.send_message(prompt)\n",
        "  print(\"resposta \", response.text, \"\\n\")\n",
        "  prompt = input(\"Esperando o Prompt:\")"
      ],
      "metadata": {
        "id": "rihUyRAu9BuY"
      },
      "execution_count": null,
      "outputs": []
    },
    {
      "cell_type": "code",
      "source": [
        "import time\n",
        "import datetime\n",
        "import pytz\n",
        "from google.cloud import language_v1\n",
        "\n",
        "def extrair_local(texto):\n",
        "  print(texto)\n",
        "\n",
        "  client = language_v1.LanguageServiceClient()\n",
        "  document = language_v1.Document(content=texto, type_=language_v1.Document.Type.PLAIN_TEXT)\n",
        "  response = client.analyze_entities(request={'document': document})\n",
        "\n",
        "  for entity in response.entities:\n",
        "    if entity.type_ == language_v1.Entity.Type.LOCATION:\n",
        "      return entity.name\n",
        "  return None\n",
        "\n",
        "def criar_lembrete(hora, minuto, mensagem):\n",
        "\n",
        "  while True:\n",
        "    agora = datetime.datetime.now(pytz.timezone('America/Sao_Paulo'))\n",
        "    if agora.hour == hora and agora.minute == minuto:\n",
        "      local = extrair_local(mensagem)\n",
        "      if local:\n",
        "        print(f\"Lembrete: {mensagem} em {local}\")\n",
        "      else:\n",
        "        print(f\"Lembrete: {mensagem}\")\n",
        "      time.sleep(60)\n",
        "\n",
        "# Entrada de dados do usuário\n",
        "hora = int(input(\"Digite a hora do lembrete (formato 24h): \"))\n",
        "minuto = int(input(\"Digite o minuto do lembrete: \"))\n",
        "mensagem = input(\"Digite a mensagem do lembrete: \")\n",
        "\n",
        "# Chama a função para criar o lembrete\n",
        "criar_lembrete(hora, minuto, mensagem)"
      ],
      "metadata": {
        "id": "FmJdHFOToF3_"
      },
      "execution_count": null,
      "outputs": []
    }
  ]
}